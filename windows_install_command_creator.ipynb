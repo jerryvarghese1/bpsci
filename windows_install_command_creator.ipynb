{
 "cells": [
  {
   "cell_type": "code",
   "execution_count": 5,
   "metadata": {},
   "outputs": [],
   "source": [
    "your_blender_version = '3.0'\n",
    "\n",
    "command_type = 'install' # can be 'upgrade' or 'install'"
   ]
  },
  {
   "cell_type": "code",
   "execution_count": 6,
   "metadata": {},
   "outputs": [
    {
     "name": "stdout",
     "output_type": "stream",
     "text": [
      "C:/Program Files/Blender Foundation/Blender 3.0/3.0/python/bin/python.exe -m pip install numpy scipy pandas bpsci --target=C:/Program Files/Blender Foundation/Blender 3.0/3.0/python/lib/site-packages\n"
     ]
    }
   ],
   "source": [
    "python_root = 'C:/Program Files/Blender Foundation/Blender '+your_blender_version+'/'+your_blender_version+'/python'\n",
    "python_exe = python_root + '/bin/python.exe'\n",
    "site_libraries = python_root + '/lib/site-packages'\n",
    "\n",
    "if command_type == 'install':\n",
    "    command = python_exe + ' -m pip install numpy scipy pandas bpsci --target=' + site_libraries\n",
    "elif command_type == 'upgrade':\n",
    "    command = python_exe + ' -m pip install --upgrade bpsci --target ' + site_libraries\n",
    "    \n",
    "print(command)"
   ]
  },
  {
   "cell_type": "code",
   "execution_count": null,
   "metadata": {},
   "outputs": [],
   "source": []
  }
 ],
 "metadata": {
  "kernelspec": {
   "display_name": "Python 3",
   "language": "python",
   "name": "python3"
  },
  "language_info": {
   "codemirror_mode": {
    "name": "ipython",
    "version": 3
   },
   "file_extension": ".py",
   "mimetype": "text/x-python",
   "name": "python",
   "nbconvert_exporter": "python",
   "pygments_lexer": "ipython3",
   "version": "3.8.5"
  }
 },
 "nbformat": 4,
 "nbformat_minor": 4
}
